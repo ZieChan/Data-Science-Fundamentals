{
 "cells": [
  {
   "attachments": {},
   "cell_type": "markdown",
   "metadata": {},
   "source": [
    "# Worksheet 08\n",
    "\n",
    "Name: Ziye Chen  \n",
    "UID: U98411098 \n",
    "\n",
    "### Topics\n",
    "\n",
    "- Soft Clustering\n",
    "- Clustering Aggregation\n",
    "\n",
    "### Probability Review\n",
    "\n",
    "Read through [the following](https://medium.com/@gallettilance/overview-of-probability-3272b72c82c8)\n",
    "\n",
    "### Soft Clustering\n",
    "\n",
    "We generate 10 data points that come from a normal distribution with mean 5 and variance 1."
   ]
  },
  {
   "cell_type": "code",
   "execution_count": 32,
   "metadata": {},
   "outputs": [
    {
     "name": "stdout",
     "output_type": "stream",
     "text": [
      "[3.33991265456379, 3.3979195983134183, 5.247187593992659, 7.761279381550547, 6.139375617072896, 4.66107185380793, 4.039008975309165, 5.464045486641578, 3.8370039410421906, 3.235782023187065]\n"
     ]
    }
   ],
   "source": [
    "import random\n",
    "import numpy as np\n",
    "from sklearn.cluster import KMeans\n",
    "\n",
    "mean = 5\n",
    "stdev = 1\n",
    "\n",
    "s1 = np.random.normal(mean, stdev, 10).tolist()\n",
    "print(s1)"
   ]
  },
  {
   "cell_type": "markdown",
   "metadata": {},
   "source": [
    "a) Generate 10 more data points, this time coming from a normal distribution with mean 8 and variance 1."
   ]
  },
  {
   "cell_type": "code",
   "execution_count": 33,
   "metadata": {},
   "outputs": [
    {
     "name": "stdout",
     "output_type": "stream",
     "text": [
      "[7.776737718886877, 8.234578277587245, 6.662688331240119, 9.34199187867963, 7.492105420882224, 7.223831222663023, 9.847283244427487, 7.844595574764559, 9.341991335750023, 9.293038951049931]\n"
     ]
    }
   ],
   "source": [
    "s2 = np.random.normal( 8 , 1 , 10 ).tolist()\n",
    "print(s2)"
   ]
  },
  {
   "attachments": {},
   "cell_type": "markdown",
   "metadata": {},
   "source": [
    "b) Flip a fair coin 10 times. If the coin lands on H, then pick the last data point of `s1` and remove it from `s1`, if T then pick the last data point from `s2` and remove it from `s2`. Add these 10 points to a list called `data`."
   ]
  },
  {
   "cell_type": "code",
   "execution_count": 34,
   "metadata": {},
   "outputs": [
    {
     "name": "stdout",
     "output_type": "stream",
     "text": [
      "[3.235782023187065, 9.293038951049931, 9.341991335750023, 3.8370039410421906, 5.464045486641578, 4.039008975309165, 7.844595574764559, 9.847283244427487, 4.66107185380793, 7.223831222663023]\n"
     ]
    }
   ],
   "source": [
    "data = []\n",
    "for i in range(10):\n",
    "    # flip coin\n",
    "    coin_output = random.choice([0, 1])\n",
    "    if coin_output == 0:\n",
    "        p1 = s1.pop()\n",
    "        data.append(p1)\n",
    "    else:\n",
    "        p2 = s2.pop()\n",
    "        data.append(p2)\n",
    "print(data)"
   ]
  },
  {
   "cell_type": "markdown",
   "metadata": {},
   "source": [
    "c) This `data` is a Gaussian Mixture Distribution with 2 mixture components. Over the next few questions we will walk through the GMM algorithm to see if we can uncover the parameters we used to generate this data. First, please list all these parameters of the GMM that created `data` and the values we know they have."
   ]
  },
  {
   "cell_type": "markdown",
   "metadata": {},
   "source": [
    "- number of distributions: 2\n",
    "- p(head) = p(tail) = 0.5\n",
    "- c1 ~ N(5, 1)\n",
    "- c2 ~ N(8, 1)\n",
    "- number of c1 samples and number of c2 samples in data"
   ]
  },
  {
   "cell_type": "markdown",
   "metadata": {},
   "source": [
    "d) Let's assume there are two mixture components (note: we could plot the data and make the observation that there are two clusters). The EM algorithm asks us to start with a random `mean_j`, `variance_j`, `P(S_j)` for each component j. One method we could use to find sensible values for these is to apply K means with k=2 here.\n",
    "\n",
    "1. the centroids would be the estimates of the `mean_j`\n",
    "2. the intra-cluster variance could be the estimate of `variance_j`\n",
    "3. the proportion of points in each cluster could be the estimate of `P(S_j)`\n",
    "\n",
    "Go through this process and list the parameter estimates it gives. Are they close or far from the true values?"
   ]
  },
  {
   "cell_type": "code",
   "execution_count": 35,
   "metadata": {},
   "outputs": [
    {
     "name": "stdout",
     "output_type": "stream",
     "text": [
      "[3.235782023187065, 3.8370039410421906, 5.464045486641578, 4.039008975309165, 4.66107185380793]\n",
      "[9.293038951049931, 9.341991335750023, 7.844595574764559, 9.847283244427487, 7.223831222663023]\n",
      "P(S_1) = 0.5,  P(S_2) = 0.5\n",
      "mean_1 = 4.247382455997586,  mean_2 = 8.710148065731005\n",
      "var_1 = 0.5773146633300292,  var_2 = 0.9980765978582162\n"
     ]
    },
    {
     "name": "stderr",
     "output_type": "stream",
     "text": [
      "/Users/zie/anaconda3/lib/python3.11/site-packages/sklearn/cluster/_kmeans.py:870: FutureWarning: The default value of `n_init` will change from 10 to 'auto' in 1.4. Set the value of `n_init` explicitly to suppress the warning\n",
      "  warnings.warn(\n"
     ]
    }
   ],
   "source": [
    "kmeans = KMeans(2, init='k-means++').fit(X=np.array(data).reshape(-1, 1))\n",
    "\n",
    "s1 = [x[0] for x in filter(lambda x: x[1] == 0, zip(data, kmeans.labels_))]\n",
    "print(s1)\n",
    "s2 = [x[0] for x in filter(lambda x: x[1] != 0, zip(data, kmeans.labels_))]\n",
    "print(s2)\n",
    "\n",
    "prob_s = [ len(s1) / (len(s1) + len(s2)) , len(s2) / (len(s1) + len(s2)) ]\n",
    "mean = [ sum(s1)/len(s1) , sum(s2)/len(s2) ]\n",
    "var = [ sum(map(lambda x : (x - mean[0])**2, s1)) / len(s1) , sum(map(lambda x : (x - mean[1])**2, s2)) / len(s2) ]\n",
    "\n",
    "print(\"P(S_1) = \" + str(prob_s[0]) + \",  P(S_2) = \" + str(prob_s[1]))\n",
    "print(\"mean_1 = \" + str(mean[0]) + \",  mean_2 = \" + str(mean[1]))\n",
    "print(\"var_1 = \" + str(var[0]) + \",  var_2 = \" + str(var[1]))"
   ]
  },
  {
   "cell_type": "markdown",
   "metadata": {},
   "source": [
    "They are far from the true values since only 5 poins are picked from each distribution."
   ]
  },
  {
   "cell_type": "markdown",
   "metadata": {},
   "source": [
    "e) For each data point, compute `P(S_j | X_i)`. Comment on which cluster you think each point belongs to based on the estimated probabilities. How does that compare to the truth?"
   ]
  },
  {
   "cell_type": "code",
   "execution_count": 36,
   "metadata": {},
   "outputs": [
    {
     "name": "stdout",
     "output_type": "stream",
     "text": [
      "point =  3.235782023187065\n",
      "probability of observing that point if it came from cluster 0 =  0.14885788536736183\n",
      "probability of observing that point if it came from cluster 1 =  1.1722582630260007e-07\n",
      "point =  9.293038951049931\n",
      "probability of observing that point if it came from cluster 0 =  1.7890612430513422e-17\n",
      "probability of observing that point if it came from cluster 1 =  0.3370413823611802\n",
      "point =  9.341991335750023\n",
      "probability of observing that point if it came from cluster 0 =  8.49603025266073e-18\n",
      "probability of observing that point if it came from cluster 1 =  0.32713042612541104\n",
      "point =  3.8370039410421906\n",
      "probability of observing that point if it came from cluster 0 =  0.5367527787661531\n",
      "probability of observing that point if it came from cluster 1 =  2.661586232339354e-06\n",
      "point =  5.464045486641578\n",
      "probability of observing that point if it came from cluster 0 =  0.07500143696858395\n",
      "probability of observing that point if it came from cluster 1 =  0.0020174314871744385\n",
      "point =  4.039008975309165\n",
      "probability of observing that point if it came from cluster 0 =  0.6474536888814147\n",
      "probability of observing that point if it came from cluster 1 =  7.005096353680421e-06\n",
      "point =  7.844595574764559\n",
      "probability of observing that point if it came from cluster 0 =  2.563535866194883e-09\n",
      "probability of observing that point if it came from cluster 1 =  0.27443276593562116\n",
      "point =  9.847283244427487\n",
      "probability of observing that point if it came from cluster 0 =  2.5614682339495968e-21\n",
      "probability of observing that point if it came from cluster 1 =  0.20886946610841067\n",
      "point =  4.66107185380793\n",
      "probability of observing that point if it came from cluster 0 =  0.5345602896443121\n",
      "probability of observing that point if it came from cluster 1 =  0.00010662977283562008\n",
      "point =  7.223831222663023\n",
      "probability of observing that point if it came from cluster 0 =  1.1681598343592545e-06\n",
      "probability of observing that point if it came from cluster 1 =  0.13188255217279138\n",
      "3.235782023187065\n",
      "Probability of coming from S_1 = 0.9999992124989974\n",
      "Probability of coming from S_2 = 7.875010027036627e-07\n",
      "\n",
      "9.293038951049931\n",
      "Probability of coming from S_1 = 5.308135251872866e-17\n",
      "Probability of coming from S_2 = 1.0\n",
      "\n",
      "9.341991335750023\n",
      "Probability of coming from S_1 = 2.5971385032230638e-17\n",
      "Probability of coming from S_2 = 1.0\n",
      "\n",
      "3.8370039410421906\n",
      "Probability of coming from S_1 = 0.9999950413427937\n",
      "Probability of coming from S_2 = 4.958657206328445e-06\n",
      "\n",
      "5.464045486641578\n",
      "Probability of coming from S_1 = 0.9738060097788466\n",
      "Probability of coming from S_2 = 0.02619399022115344\n",
      "\n",
      "4.039008975309165\n",
      "Probability of coming from S_1 = 0.9999891806615926\n",
      "Probability of coming from S_2 = 1.0819338407469337e-05\n",
      "\n",
      "7.844595574764559\n",
      "Probability of coming from S_1 = 9.341216357706049e-09\n",
      "Probability of coming from S_2 = 0.9999999906587835\n",
      "\n",
      "9.847283244427487\n",
      "Probability of coming from S_1 = 1.226348820473407e-20\n",
      "Probability of coming from S_2 = 1.0\n",
      "\n",
      "4.66107185380793\n",
      "Probability of coming from S_1 = 0.9998005678508185\n",
      "Probability of coming from S_2 = 0.00019943214918151204\n",
      "\n",
      "7.223831222663023\n",
      "Probability of coming from S_1 = 8.857498343336256e-06\n",
      "Probability of coming from S_2 = 0.9999911425016567\n",
      "\n"
     ]
    }
   ],
   "source": [
    "from scipy.stats import norm\n",
    "\n",
    "prob_s0_x = [] # P(S_0 | X_i)\n",
    "prob_s1_x = [] # P(S_1 | X_i)\n",
    "prob_x = [] # P(X_i)\n",
    "\n",
    "k = 2\n",
    "\n",
    "for p in data:\n",
    "    print(\"point = \", p)\n",
    "    pdf_i = []\n",
    "\n",
    "    for j in range(k):\n",
    "        # P(X_i | S_j)\n",
    "        pdf_i.append(norm.pdf(p, mean[j], var[j]))\n",
    "        print(\"probability of observing that point if it came from cluster \" + str(j) + \" = \", pdf_i[j])\n",
    "        # P(S_j) already computed\n",
    "        prob_s[j]\n",
    "\n",
    "    # P(X_i) = P(S_0)P(X_i | S_0) + P(S_1)P(X_i | S_1)\n",
    "    prob_x = prob_s[0] * pdf_i[0] + prob_s[1] * pdf_i[1]\n",
    "\n",
    "    # P(S_j | X_i) = P(X_i | S_j)P(S_j) / P(X_i)\n",
    "    prob_s0_x.append( pdf_i[0]*prob_s[0]/prob_x )\n",
    "    prob_s1_x.append( pdf_i[1]*prob_s[1]/prob_x )\n",
    "\n",
    "probs = zip(data, prob_s0_x, prob_s1_x)\n",
    "for p in probs:\n",
    "    print(p[0])\n",
    "    print(\"Probability of coming from S_1 = \" + str(p[1]))\n",
    "    print(\"Probability of coming from S_2 = \" + str(p[2]))\n",
    "    print()\n"
   ]
  },
  {
   "cell_type": "markdown",
   "metadata": {},
   "source": [
    "3.235782023187065 belongs to cluster 0\n",
    "\n",
    "9.293038951049931 belongs to cluster 1\n",
    "\n",
    "9.341991335750023 belongs to cluster 1\n",
    "\n",
    "3.837003941042190 belongs to cluster 0\n",
    "\n",
    "5.464045486641578 belongs to cluster 0\n",
    "\n",
    "4.039008975309165 belongs to cluster 0\n",
    "\n",
    "7.844595574764559 belongs to cluster 1\n",
    "\n",
    "9.847283244427487 belongs to cluster 1\n",
    "\n",
    "4.66107185380793 belongs to cluster 0\n",
    "\n",
    "7.223831222663023 belongs to cluster 1\n",
    "\n"
   ]
  },
  {
   "cell_type": "markdown",
   "metadata": {},
   "source": [
    "f) Having computed `P(S_j | X_i)`, update the estimates of `mean_j`, `var_j`, and `P(S_j)`. How different are these values from the original ones you got from K means? briefly comment."
   ]
  },
  {
   "cell_type": "code",
   "execution_count": 37,
   "metadata": {},
   "outputs": [
    {
     "name": "stdout",
     "output_type": "stream",
     "text": [
      "P(S_1) = 0.5,  P(S_2) = 0.5\n",
      "mean_1 = 4.240964512019538,  mean_2 = 8.693057958129847\n",
      "var_1 = 0.5725505260484431,  var_2 = 1.0481760572024477\n"
     ]
    }
   ],
   "source": [
    "prob_c = [sum(prob_s0_x)/ len(prob_s0_x), sum(prob_s1_x)/ len(prob_s1_x) ]\n",
    "mean = [sum([x[0] * x[1] for x in zip(prob_s0_x, data)]) / sum(prob_s0_x), sum([x[0] * x[1] for x in zip(prob_s1_x, data)]) / sum(prob_s1_x) ]\n",
    "var = [sum([(x - mean[0])**2 * prob for x, prob in zip(data, prob_s0_x)]) / sum(prob_s0_x), sum([(x - mean[1])**2 * prob for x, prob in zip(data, prob_s1_x)]) / sum(prob_s1_x)]\n",
    "\n",
    "print(\"P(S_1) = \" + str(prob_s[0]) + \",  P(S_2) = \" + str(prob_s[1]))\n",
    "print(\"mean_1 = \" + str(mean[0]) + \",  mean_2 = \" + str(mean[1]))\n",
    "print(\"var_1 = \" + str(var[0]) + \",  var_2 = \" + str(var[1]))"
   ]
  },
  {
   "cell_type": "markdown",
   "metadata": {},
   "source": [
    "mean_1 = 4.24, var_1 = 0.57, mean_2 = 8.69, var_2 = 1.05\n",
    "\n",
    "The 'mean' of the original ones is close to the 'mean' from K means. But the 'var' of the original one is far from the 'var' from K means. Since we only take 5 points from each distribution."
   ]
  },
  {
   "cell_type": "markdown",
   "metadata": {},
   "source": [
    "g) Update `P(S_j | X_i)`. Comment on any differences or lack thereof you observe."
   ]
  },
  {
   "cell_type": "code",
   "execution_count": 38,
   "metadata": {},
   "outputs": [
    {
     "name": "stdout",
     "output_type": "stream",
     "text": [
      "point = 3.235782023187065\n",
      "probability of observing that point if it came from cluster 0 =  0.1492117077043667\n",
      "probability of observing that point if it came from cluster 1 =  4.945837094818534e-07\n",
      "point = 9.293038951049931\n",
      "probability of observing that point if it came from cluster 0 =  8.63200084152004e-18\n",
      "probability of observing that point if it came from cluster 1 =  0.3230934370871869\n",
      "point = 9.341991335750023\n",
      "probability of observing that point if it came from cluster 0 =  4.044655984667126e-18\n",
      "probability of observing that point if it came from cluster 1 =  0.31422783061112936\n",
      "point = 3.8370039410421906\n",
      "probability of observing that point if it came from cluster 0 =  0.5432521948098908\n",
      "probability of observing that point if it came from cluster 1 =  8.31299337504108e-06\n",
      "point = 5.464045486641578\n",
      "probability of observing that point if it came from cluster 0 =  0.07115077821464748\n",
      "probability of observing that point if it came from cluster 1 =  0.0033092221154738823\n",
      "point = 4.039008975309165\n",
      "probability of observing that point if it came from cluster 0 =  0.654755537811511\n",
      "probability of observing that point if it came from cluster 1 =  1.9927417442468946e-05\n",
      "point = 7.844595574764559\n",
      "probability of observing that point if it came from cluster 0 =  1.741566529523882e-09\n",
      "probability of observing that point if it came from cluster 1 =  0.2742795828913197\n",
      "point = 9.847283244427487\n",
      "probability of observing that point if it came from cluster 0 =  1.0544431940432046e-21\n",
      "probability of observing that point if it came from cluster 1 =  0.20757069341788878\n",
      "point = 4.66107185380793\n",
      "probability of observing that point if it came from cluster 0 =  0.5323379680488062\n",
      "probability of observing that point if it came from cluster 1 =  0.000233012045069299\n",
      "point = 7.223831222663023\n",
      "probability of observing that point if it came from cluster 0 =  8.898362461018607e-07\n",
      "probability of observing that point if it came from cluster 1 =  0.14250626075100897\n",
      "3.235782023187065\n",
      "Probability of coming from C_1 = 0.9999966853668675\n",
      "Probability of coming from C_2 = 3.3146331325301837e-06\n",
      "\n",
      "9.293038951049931\n",
      "Probability of coming from C_1 = 2.6716732222544932e-17\n",
      "Probability of coming from C_2 = 1.0\n",
      "\n",
      "9.341991335750023\n",
      "Probability of coming from C_1 = 1.2871730606422842e-17\n",
      "Probability of coming from C_2 = 1.0\n",
      "\n",
      "3.8370039410421906\n",
      "Probability of coming from C_1 = 0.9999846979611888\n",
      "Probability of coming from C_2 = 1.5302038811279677e-05\n",
      "\n",
      "5.464045486641578\n",
      "Probability of coming from C_1 = 0.9555570494117336\n",
      "Probability of coming from C_2 = 0.04444295058826638\n",
      "\n",
      "4.039008975309165\n",
      "Probability of coming from C_1 = 0.9999695660291188\n",
      "Probability of coming from C_2 = 3.0433970881149285e-05\n",
      "\n",
      "7.844595574764559\n",
      "Probability of coming from C_1 = 6.3496032045363816e-09\n",
      "Probability of coming from C_2 = 0.9999999936503969\n",
      "\n",
      "9.847283244427487\n",
      "Probability of coming from C_1 = 5.079923262193674e-21\n",
      "Probability of coming from C_2 = 1.0\n",
      "\n",
      "4.66107185380793\n",
      "Probability of coming from C_1 = 0.9995624770147479\n",
      "Probability of coming from C_2 = 0.000437522985252081\n",
      "\n",
      "7.223831222663023\n",
      "Probability of coming from C_1 = 6.244151556149646e-06\n",
      "Probability of coming from C_2 = 0.9999937558484439\n",
      "\n"
     ]
    }
   ],
   "source": [
    "prob_s0_x = [] \n",
    "prob_s1_x = [] \n",
    "prob_x = [] \n",
    "\n",
    "k = 2\n",
    "\n",
    "for p in data:\n",
    "    print(f\"point = {p}\")\n",
    "    pdf_i = []\n",
    "\n",
    "    for j in range(k):\n",
    "        pdf_i.append(norm.pdf(p, mean[j], var[j]))\n",
    "        print(\"probability of observing that point if it came from cluster \" + str(j) + \" = \", pdf_i[j])\n",
    "   \n",
    "        prob_s[j]\n",
    "\n",
    "    prob_x = prob_s[0] * pdf_i[0] + prob_s[1] * pdf_i[1]\n",
    "\n",
    "    prob_s0_x.append(pdf_i[0] * prob_s[0] / prob_x )\n",
    "    prob_s1_x.append(pdf_i[1] * prob_s[1] / prob_x )\n",
    "\n",
    "probs = zip(data, prob_s0_x, prob_s1_x)\n",
    "for p in probs:\n",
    "    print(p[0])\n",
    "    print(\"Probability of coming from C_1 = \" + str(p[1]))\n",
    "    print(\"Probability of coming from C_2 = \" + str(p[2]))\n",
    "    print()"
   ]
  },
  {
   "cell_type": "markdown",
   "metadata": {},
   "source": [
    "In some cases, probabilities for cluster 1 increased and the probability of points coming from cluster 0 decreased."
   ]
  },
  {
   "cell_type": "markdown",
   "metadata": {},
   "source": [
    "h) Use `P(S_j | X_i)` to create a hard assignment - label each point as belonging to a specific cluster (0 or 1)"
   ]
  },
  {
   "cell_type": "code",
   "execution_count": 39,
   "metadata": {},
   "outputs": [
    {
     "name": "stdout",
     "output_type": "stream",
     "text": [
      "[0, 1, 1, 0, 0, 0, 1, 1, 0, 1]\n"
     ]
    }
   ],
   "source": [
    "assignments = []\n",
    "\n",
    "for i in zip(prob_s0_x, prob_s1_x):\n",
    "    p1, p2 = i\n",
    "    \n",
    "    if p1 > p2:\n",
    "        assignments.append(0)\n",
    "    else:\n",
    "        assignments.append(1)\n",
    "    \n",
    "print(assignments)"
   ]
  },
  {
   "cell_type": "code",
   "execution_count": null,
   "metadata": {},
   "outputs": [],
   "source": []
  }
 ],
 "metadata": {
  "kernelspec": {
   "display_name": "Python 3 (ipykernel)",
   "language": "python",
   "name": "python3"
  },
  "language_info": {
   "codemirror_mode": {
    "name": "ipython",
    "version": 3
   },
   "file_extension": ".py",
   "mimetype": "text/x-python",
   "name": "python",
   "nbconvert_exporter": "python",
   "pygments_lexer": "ipython3",
   "version": "3.11.5"
  },
  "vscode": {
   "interpreter": {
    "hash": "e7370f93d1d0cde622a1f8e1c04877d8463912d04d973331ad4851f04de6915a"
   }
  }
 },
 "nbformat": 4,
 "nbformat_minor": 4
}
